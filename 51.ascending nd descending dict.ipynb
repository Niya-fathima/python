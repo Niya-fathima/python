{
 "cells": [
  {
   "cell_type": "code",
   "execution_count": 1,
   "id": "a916b385",
   "metadata": {},
   "outputs": [
    {
     "name": "stdout",
     "output_type": "stream",
     "text": [
      "ascending order is: [('apple', 13), ('cherry', 11), ('grape', 12), ('mango', 14)]\n",
      "descendind order is: [('mango', 14), ('grape', 12), ('cherry', 11), ('apple', 13)]\n",
      "dictionary {'mango': 14, 'grape': 12, 'cherry': 11, 'apple': 13}\n"
     ]
    }
   ],
   "source": [
    "#SORT DICTIONARY IN ASCENDING AND DESCENDING ORDER\n",
    "a={'cherry':11,'grape':12,'apple':13,'mango':14}\n",
    "l=list(a.items())\n",
    "l.sort()\n",
    "print('ascending order is:',l)\n",
    "l=list(a.items())\n",
    "l.sort(reverse=True)\n",
    "print('descendind order is:',l)\n",
    "dict=dict(l)\n",
    "print(\"dictionary\",dict)"
   ]
  },
  {
   "cell_type": "code",
   "execution_count": null,
   "id": "e4bf3221",
   "metadata": {},
   "outputs": [],
   "source": []
  }
 ],
 "metadata": {
  "kernelspec": {
   "display_name": "Python 3 (ipykernel)",
   "language": "python",
   "name": "python3"
  },
  "language_info": {
   "codemirror_mode": {
    "name": "ipython",
    "version": 3
   },
   "file_extension": ".py",
   "mimetype": "text/x-python",
   "name": "python",
   "nbconvert_exporter": "python",
   "pygments_lexer": "ipython3",
   "version": "3.10.6"
  }
 },
 "nbformat": 4,
 "nbformat_minor": 5
}
