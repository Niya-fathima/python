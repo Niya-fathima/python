{
 "cells": [
  {
   "cell_type": "code",
   "execution_count": 2,
   "id": "df6becd8",
   "metadata": {},
   "outputs": [
    {
     "name": "stdout",
     "output_type": "stream",
     "text": [
      "enter a word:engineer\n",
      "new word: engineering\n"
     ]
    }
   ],
   "source": [
    "#add ing\n",
    "word=input(\"enter a word:\")\n",
    "str1=word[-3:]\n",
    "if str1=='ing':\n",
    "    word=word+'ly'\n",
    "else:\n",
    "    word=word+'ing'\n",
    "print(\"new word:\",word)"
   ]
  },
  {
   "cell_type": "code",
   "execution_count": null,
   "id": "d81a7642",
   "metadata": {},
   "outputs": [],
   "source": []
  }
 ],
 "metadata": {
  "kernelspec": {
   "display_name": "Python 3 (ipykernel)",
   "language": "python",
   "name": "python3"
  },
  "language_info": {
   "codemirror_mode": {
    "name": "ipython",
    "version": 3
   },
   "file_extension": ".py",
   "mimetype": "text/x-python",
   "name": "python",
   "nbconvert_exporter": "python",
   "pygments_lexer": "ipython3",
   "version": "3.10.6"
  }
 },
 "nbformat": 4,
 "nbformat_minor": 5
}
