{
 "cells": [
  {
   "cell_type": "code",
   "execution_count": 1,
   "id": "9196de58",
   "metadata": {},
   "outputs": [
    {
     "name": "stdout",
     "output_type": "stream",
     "text": [
      "enter length of rectangle1:2\n",
      "enter breadth of rectangle1:3\n",
      "enter length of rectangle2:4\n",
      "enter breadth of rectangle2:5\n",
      "rectangle 2 is greater.\n"
     ]
    }
   ],
   "source": [
    "class rectangle():\n",
    "    def get(self,l,b):\n",
    "        self.l=l\n",
    "        self.b=b\n",
    "    def area(self,l,b):\n",
    "        return l*b\n",
    "    def perimeter(self,l,b):\n",
    "        return 2*(l+b)\n",
    "r1=rectangle()\n",
    "r2=rectangle()\n",
    "l1=int(input(\"enter length of rectangle1:\"))\n",
    "b1=int(input(\"enter breadth of rectangle1:\"))\n",
    "l2=int(input(\"enter length of rectangle2:\"))\n",
    "b2=int(input(\"enter breadth of rectangle2:\"))\n",
    "p=r1.area(l1,b1)\n",
    "q=r2.area(l2,b2)\n",
    "if(p>q):\n",
    "    print(\"rectangle 1 is greater.\")\n",
    "elif(p<q):\n",
    "    print(\"rectangle 2 is greater.\")\n",
    "else:\n",
    "    print(\"rectangles are equal\")"
   ]
  },
  {
   "cell_type": "code",
   "execution_count": null,
   "id": "04bc945f",
   "metadata": {},
   "outputs": [],
   "source": []
  }
 ],
 "metadata": {
  "kernelspec": {
   "display_name": "Python 3 (ipykernel)",
   "language": "python",
   "name": "python3"
  },
  "language_info": {
   "codemirror_mode": {
    "name": "ipython",
    "version": 3
   },
   "file_extension": ".py",
   "mimetype": "text/x-python",
   "name": "python",
   "nbconvert_exporter": "python",
   "pygments_lexer": "ipython3",
   "version": "3.10.6"
  }
 },
 "nbformat": 4,
 "nbformat_minor": 5
}
