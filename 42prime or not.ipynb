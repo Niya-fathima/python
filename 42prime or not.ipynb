{
 "cells": [
  {
   "cell_type": "code",
   "execution_count": 1,
   "id": "63dfa20f",
   "metadata": {},
   "outputs": [
    {
     "name": "stdout",
     "output_type": "stream",
     "text": [
      "enter a number:4\n",
      "4 is not a prime num!\n"
     ]
    }
   ],
   "source": [
    "#check prime or not\n",
    "n=int(input(\"enter a number:\"))\n",
    "if n>1:\n",
    "    for i in range(2,n):\n",
    "        if(n%i)==0:\n",
    "            print(\"%d is not a prime num!\"%n)\n",
    "            break\n",
    "        else:\n",
    "            print(\"%d is a prime num!\"%n)\n",
    "            break\n",
    "else:\n",
    "     print(\"%d is not a prime num!\"%n)       "
   ]
  },
  {
   "cell_type": "code",
   "execution_count": null,
   "id": "28164a7b",
   "metadata": {},
   "outputs": [],
   "source": []
  }
 ],
 "metadata": {
  "kernelspec": {
   "display_name": "Python 3 (ipykernel)",
   "language": "python",
   "name": "python3"
  },
  "language_info": {
   "codemirror_mode": {
    "name": "ipython",
    "version": 3
   },
   "file_extension": ".py",
   "mimetype": "text/x-python",
   "name": "python",
   "nbconvert_exporter": "python",
   "pygments_lexer": "ipython3",
   "version": "3.10.6"
  }
 },
 "nbformat": 4,
 "nbformat_minor": 5
}
