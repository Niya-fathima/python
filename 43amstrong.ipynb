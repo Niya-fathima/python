{
 "cells": [
  {
   "cell_type": "code",
   "execution_count": 4,
   "id": "951147d6",
   "metadata": {},
   "outputs": [
    {
     "name": "stdout",
     "output_type": "stream",
     "text": [
      "enter a num:153\n",
      "amstrong num\n"
     ]
    }
   ],
   "source": [
    "#amstrong or not\n",
    "a=input(\"enter a num:\")\n",
    "result=0\n",
    "for i in range(len(a)):\n",
    "    b=int(a[i])\n",
    "    result=result+(b**int(len(a)))\n",
    "if result==int(a):\n",
    "    print(\"amstrong num\")\n",
    "elif result!=int(a):\n",
    "      print(\"not an amstrong num\")"
   ]
  },
  {
   "cell_type": "code",
   "execution_count": null,
   "id": "00b05502",
   "metadata": {},
   "outputs": [],
   "source": []
  },
  {
   "cell_type": "code",
   "execution_count": null,
   "id": "be7d99ae",
   "metadata": {},
   "outputs": [],
   "source": []
  }
 ],
 "metadata": {
  "kernelspec": {
   "display_name": "Python 3 (ipykernel)",
   "language": "python",
   "name": "python3"
  },
  "language_info": {
   "codemirror_mode": {
    "name": "ipython",
    "version": 3
   },
   "file_extension": ".py",
   "mimetype": "text/x-python",
   "name": "python",
   "nbconvert_exporter": "python",
   "pygments_lexer": "ipython3",
   "version": "3.10.6"
  }
 },
 "nbformat": 4,
 "nbformat_minor": 5
}
