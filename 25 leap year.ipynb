{
 "cells": [
  {
   "cell_type": "code",
   "execution_count": 1,
   "metadata": {},
   "outputs": [
    {
     "name": "stdout",
     "output_type": "stream",
     "text": [
      "enter the year:2018\n",
      "2018 is not a leap year\n",
      "enter a number:3\n",
      "3 is odd\n"
     ]
    }
   ],
   "source": [
    "a=int(input(\"enter the year:\"))\n",
    "b=a%4\n",
    "if(b==0):\n",
    "    print(\"%d is a leap year\"%a)\n",
    "else:\n",
    "  print(\"%d is not a leap year\"%a)\n",
    " \n",
    "a=int(input(\"enter a number:\"))\n",
    "b=a%2\n",
    "if(b!=0):\n",
    "    print(\"%d is odd\"%a)\n",
    "else:\n",
    "    print(\"%d is even\"%a)"
   ]
  },
  {
   "cell_type": "code",
   "execution_count": null,
   "metadata": {},
   "outputs": [],
   "source": []
  }
 ],
 "metadata": {
  "kernelspec": {
   "display_name": "Python 3",
   "language": "python",
   "name": "python3"
  },
  "language_info": {
   "codemirror_mode": {
    "name": "ipython",
    "version": 3
   },
   "file_extension": ".py",
   "mimetype": "text/x-python",
   "name": "python",
   "nbconvert_exporter": "python",
   "pygments_lexer": "ipython3",
   "version": "3.7.3"
  }
 },
 "nbformat": 4,
 "nbformat_minor": 2
}
