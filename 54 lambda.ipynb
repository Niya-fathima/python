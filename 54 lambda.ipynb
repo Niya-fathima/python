{
 "cells": [
  {
   "cell_type": "code",
   "execution_count": null,
   "id": "440b1c3f",
   "metadata": {},
   "outputs": [
    {
     "name": "stdout",
     "output_type": "stream",
     "text": [
      "1.square\n",
      "2.rectangle\n",
      "3.triangle\n",
      "4.exit\n",
      "enter your choice:1\n",
      "enter side:2\n",
      "area of square: 4\n",
      "1.square\n",
      "2.rectangle\n",
      "3.triangle\n",
      "4.exit\n"
     ]
    }
   ],
   "source": [
    "#lambda\n",
    "sqr=lambda a:a*a\n",
    "rect=lambda l,b:l*b\n",
    "tri=lambda b,h:(b*h)/2\n",
    "while(1):\n",
    "    print(\"1.square\\n2.rectangle\\n3.triangle\\n4.exit\")\n",
    "    ch=int(input(\"enter your choice:\"))\n",
    "    if(ch==1):\n",
    "        a=int(input(\"enter side:\"))\n",
    "        print(\"area of square:\",sqr(a))\n",
    "    elif(ch==2):\n",
    "        l=int(input(\"enter length:\"))\n",
    "        b=int(input(\"enter breadth:\"))\n",
    "        print(\"area of rectangle:\",rect(l,b))\n",
    "    elif(ch==3):\n",
    "        b=int(input(\"enter breadth:\"))\n",
    "        l=int(input(\"enter height:\"))\n",
    "        print(\"area of triangle:\",tri(b,h))\n",
    "    else:\n",
    "        print(\"exiting....\")\n",
    "        break\n"
   ]
  },
  {
   "cell_type": "code",
   "execution_count": null,
   "id": "31e401a1",
   "metadata": {},
   "outputs": [],
   "source": []
  }
 ],
 "metadata": {
  "kernelspec": {
   "display_name": "Python 3 (ipykernel)",
   "language": "python",
   "name": "python3"
  },
  "language_info": {
   "codemirror_mode": {
    "name": "ipython",
    "version": 3
   },
   "file_extension": ".py",
   "mimetype": "text/x-python",
   "name": "python",
   "nbconvert_exporter": "python",
   "pygments_lexer": "ipython3",
   "version": "3.10.6"
  }
 },
 "nbformat": 4,
 "nbformat_minor": 5
}
