{
 "cells": [
  {
   "cell_type": "code",
   "execution_count": 1,
   "id": "0aa46e1f",
   "metadata": {},
   "outputs": [
    {
     "name": "stdout",
     "output_type": "stream",
     "text": [
      "1.rectangle\n",
      "2.circle\n",
      "3.exit\n",
      "enter your choices:1\n",
      "enter length2\n",
      "enter breadth3\n",
      "area of rectangle:\n",
      "perimeter of rectangle: 10\n",
      "1.rectangle\n",
      "2.circle\n",
      "3.exit\n",
      "enter your choices:2\n",
      "enter radius3\n",
      "area of circle: 28.259999999999998\n",
      "perimeter of circle: 18.84\n",
      "1.rectangle\n",
      "2.circle\n",
      "3.exit\n",
      "enter your choices:3\n",
      "exiting....\n"
     ]
    }
   ],
   "source": [
    "import rectan\n",
    "import circlee\n",
    "while(1):\n",
    "    print(\"1.rectangle\\n2.circle\\n3.exit\")\n",
    "    ch=int(input(\"enter your choices:\"))\n",
    "    if ch==1:\n",
    "        l=int(input(\"enter length\"))\n",
    "        b=int(input(\"enter breadth\"))\n",
    "        rectan.rectarea(l,b)\n",
    "        rectan.rectperi(l,b)\n",
    "    elif ch==2:\n",
    "        r=int(input(\"enter radius\"))\n",
    "        circlee.circlearea(r)\n",
    "        circlee.circleperi(r)\n",
    "    else:\n",
    "        print(\"exiting....\")\n",
    "        break"
   ]
  },
  {
   "cell_type": "code",
   "execution_count": null,
   "id": "cb6112d7",
   "metadata": {},
   "outputs": [],
   "source": []
  }
 ],
 "metadata": {
  "kernelspec": {
   "display_name": "Python 3 (ipykernel)",
   "language": "python",
   "name": "python3"
  },
  "language_info": {
   "codemirror_mode": {
    "name": "ipython",
    "version": 3
   },
   "file_extension": ".py",
   "mimetype": "text/x-python",
   "name": "python",
   "nbconvert_exporter": "python",
   "pygments_lexer": "ipython3",
   "version": "3.10.6"
  }
 },
 "nbformat": 4,
 "nbformat_minor": 5
}
