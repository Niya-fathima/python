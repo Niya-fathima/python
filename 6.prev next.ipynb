{
 "cells": [
  {
   "cell_type": "code",
   "execution_count": 1,
   "metadata": {},
   "outputs": [
    {
     "name": "stdout",
     "output_type": "stream",
     "text": [
      "type an integer:2\n",
      "previous number of the integer: 1\n",
      "next number of the integer: 3\n"
     ]
    }
   ],
   "source": [
    "a=int(input(\"type an integer:\"))\n",
    "prev=a-1\n",
    "print(\"previous number of the integer:\",prev)\n",
    "next=a+1\n",
    "print(\"next number of the integer:\",next)\n"
   ]
  },
  {
   "cell_type": "code",
   "execution_count": null,
   "metadata": {},
   "outputs": [],
   "source": []
  }
 ],
 "metadata": {
  "kernelspec": {
   "display_name": "Python 3",
   "language": "python",
   "name": "python3"
  },
  "language_info": {
   "codemirror_mode": {
    "name": "ipython",
    "version": 3
   },
   "file_extension": ".py",
   "mimetype": "text/x-python",
   "name": "python",
   "nbconvert_exporter": "python",
   "pygments_lexer": "ipython3",
   "version": "3.7.3"
  }
 },
 "nbformat": 4,
 "nbformat_minor": 2
}
