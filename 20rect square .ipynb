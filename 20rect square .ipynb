{
 "cells": [
  {
   "cell_type": "code",
   "execution_count": 1,
   "metadata": {},
   "outputs": [
    {
     "name": "stdout",
     "output_type": "stream",
     "text": [
      "enter the length of rectangle:5\n",
      "enter the breadth of the rectangle:4\n",
      "it is a rectangle\n",
      "enter the first integer number:1\n",
      "enter the second integer number:4\n",
      "4 is the product\n"
     ]
    }
   ],
   "source": [
    "a=float(input(\"enter the length of rectangle:\"))\n",
    "b=float(input(\"enter the breadth of the rectangle:\"))\n",
    "if(a==b):\n",
    "    print(\"it is a square\")\n",
    "else:\n",
    "     print(\"it is a rectangle\")\n",
    " \n",
    "a=int(input(\"enter the first integer number:\"))\n",
    "b=int(input(\"enter the second integer number:\"))\n",
    "prdct=a*b\n",
    "sum=a+b\n",
    "if(prdct>1000):\n",
    "    print(\"%d is their sum\"%sum)\n",
    "else:\n",
    "    print(\"%d is the product\"%prdct)"
   ]
  },
  {
   "cell_type": "code",
   "execution_count": null,
   "metadata": {},
   "outputs": [],
   "source": []
  }
 ],
 "metadata": {
  "kernelspec": {
   "display_name": "Python 3",
   "language": "python",
   "name": "python3"
  },
  "language_info": {
   "codemirror_mode": {
    "name": "ipython",
    "version": 3
   },
   "file_extension": ".py",
   "mimetype": "text/x-python",
   "name": "python",
   "nbconvert_exporter": "python",
   "pygments_lexer": "ipython3",
   "version": "3.7.3"
  }
 },
 "nbformat": 4,
 "nbformat_minor": 2
}
