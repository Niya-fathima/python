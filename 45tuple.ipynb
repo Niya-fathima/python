{
 "cells": [
  {
   "cell_type": "code",
   "execution_count": 24,
   "id": "d2234a6d",
   "metadata": {},
   "outputs": [
    {
     "name": "stdout",
     "output_type": "stream",
     "text": [
      "Enter numbers seperated by comma:1,2,3,4\n",
      "Average value of the numbers in a given tuple 2.5\n"
     ]
    }
   ],
   "source": [
    "t=tuple(input(\"Enter numbers seperated by comma:\").split(\",\"))\n",
    "l=len(t)\n",
    "c=0\n",
    "for i in range(l):\n",
    "    c=int(t[i])+c\n",
    "    avg=c/l\n",
    "print(\"Average value of the numbers in a given tuple\",avg)"
   ]
  },
  {
   "cell_type": "code",
   "execution_count": null,
   "id": "b6a382a7",
   "metadata": {},
   "outputs": [],
   "source": []
  },
  {
   "cell_type": "code",
   "execution_count": null,
   "id": "184f1c9a",
   "metadata": {},
   "outputs": [],
   "source": []
  }
 ],
 "metadata": {
  "kernelspec": {
   "display_name": "Python 3 (ipykernel)",
   "language": "python",
   "name": "python3"
  },
  "language_info": {
   "codemirror_mode": {
    "name": "ipython",
    "version": 3
   },
   "file_extension": ".py",
   "mimetype": "text/x-python",
   "name": "python",
   "nbconvert_exporter": "python",
   "pygments_lexer": "ipython3",
   "version": "3.10.6"
  }
 },
 "nbformat": 4,
 "nbformat_minor": 5
}
