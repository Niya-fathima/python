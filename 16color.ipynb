{
 "cells": [
  {
   "cell_type": "code",
   "execution_count": 1,
   "metadata": {},
   "outputs": [
    {
     "name": "stdout",
     "output_type": "stream",
     "text": [
      "enter colours with comma seperated:red,blue,white\n",
      "['red', 'blue', 'white']\n",
      "first colour is: red\n",
      "last colour is: white\n"
     ]
    }
   ],
   "source": [
    "a=input(\"enter colours with comma seperated:\")\n",
    "b=a.split(\",\")\n",
    "print(b)\n",
    "print(\"first colour is:\",b[0])\n",
    "print(\"last colour is:\",b[-1])"
   ]
  },
  {
   "cell_type": "code",
   "execution_count": null,
   "metadata": {},
   "outputs": [],
   "source": []
  }
 ],
 "metadata": {
  "kernelspec": {
   "display_name": "Python 3",
   "language": "python",
   "name": "python3"
  },
  "language_info": {
   "codemirror_mode": {
    "name": "ipython",
    "version": 3
   },
   "file_extension": ".py",
   "mimetype": "text/x-python",
   "name": "python",
   "nbconvert_exporter": "python",
   "pygments_lexer": "ipython3",
   "version": "3.7.3"
  }
 },
 "nbformat": 4,
 "nbformat_minor": 2
}
