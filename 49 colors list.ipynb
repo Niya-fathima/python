{
 "cells": [
  {
   "cell_type": "code",
   "execution_count": 1,
   "id": "ced74b02",
   "metadata": {},
   "outputs": [
    {
     "name": "stdout",
     "output_type": "stream",
     "text": [
      "original set of colors:\n",
      "{'green', 'red', 'blue', 'black'}\n",
      "{'pink', 'blue', 'black'}\n",
      "\n",
      " colors in color_list1 not contained in clr_list2:\n",
      "{'green', 'red'}\n"
     ]
    }
   ],
   "source": [
    "#print out all colors from color list1 but not in color list2\n",
    "clr_list1=set([\"red\",\"black\",\"blue\",\"green\"])\n",
    "clr_list2=set([\"pink\",\"blue\",\"black\"])\n",
    "print(\"original set of colors:\")\n",
    "print(clr_list1)\n",
    "print(clr_list2)\n",
    "print(\"\\n colors in color_list1 not contained in clr_list2:\")\n",
    "print(clr_list1.difference(clr_list2))\n"
   ]
  },
  {
   "cell_type": "code",
   "execution_count": null,
   "id": "32aae7d2",
   "metadata": {},
   "outputs": [],
   "source": []
  }
 ],
 "metadata": {
  "kernelspec": {
   "display_name": "Python 3 (ipykernel)",
   "language": "python",
   "name": "python3"
  },
  "language_info": {
   "codemirror_mode": {
    "name": "ipython",
    "version": 3
   },
   "file_extension": ".py",
   "mimetype": "text/x-python",
   "name": "python",
   "nbconvert_exporter": "python",
   "pygments_lexer": "ipython3",
   "version": "3.10.6"
  }
 },
 "nbformat": 4,
 "nbformat_minor": 5
}
