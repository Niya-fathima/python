{
 "cells": [
  {
   "cell_type": "code",
   "execution_count": 1,
   "metadata": {},
   "outputs": [
    {
     "name": "stdout",
     "output_type": "stream",
     "text": [
      "type first word:pine\n",
      "type second word:apple\n",
      "ipne paple\n"
     ]
    }
   ],
   "source": [
    "a=input(\"type first word:\")\n",
    "b=input(\"type second word:\")\n",
    "x=a[0]\n",
    "y=a[1]\n",
    "z=a[2:]\n",
    "h=y+x+z\n",
    "c=b[0]\n",
    "d=b[1]\n",
    "e=b[2:]\n",
    "s=d+c+e\n",
    "print(h+\" \"+s)"
   ]
  },
  {
   "cell_type": "code",
   "execution_count": null,
   "metadata": {},
   "outputs": [],
   "source": []
  }
 ],
 "metadata": {
  "kernelspec": {
   "display_name": "Python 3",
   "language": "python",
   "name": "python3"
  },
  "language_info": {
   "codemirror_mode": {
    "name": "ipython",
    "version": 3
   },
   "file_extension": ".py",
   "mimetype": "text/x-python",
   "name": "python",
   "nbconvert_exporter": "python",
   "pygments_lexer": "ipython3",
   "version": "3.7.3"
  }
 },
 "nbformat": 4,
 "nbformat_minor": 2
}
