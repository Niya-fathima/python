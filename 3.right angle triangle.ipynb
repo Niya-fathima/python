{
 "cells": [
  {
   "cell_type": "code",
   "execution_count": 6,
   "metadata": {},
   "outputs": [
    {
     "name": "stdout",
     "output_type": "stream",
     "text": [
      "Enter breadth of triangle:2\n",
      "Enter height of triangle:3\n",
      "Area of triangle 3.0\n"
     ]
    }
   ],
   "source": [
    "b=int(input(\"Enter breadth of triangle:\"))\n",
    "h=int(input(\"Enter height of triangle:\"))\n",
    "area=b*h*0.5\n",
    "print(\"Area of triangle\",area)"
   ]
  },
  {
   "cell_type": "code",
   "execution_count": null,
   "metadata": {},
   "outputs": [],
   "source": []
  }
 ],
 "metadata": {
  "kernelspec": {
   "display_name": "Python 3",
   "language": "python",
   "name": "python3"
  },
  "language_info": {
   "codemirror_mode": {
    "name": "ipython",
    "version": 3
   },
   "file_extension": ".py",
   "mimetype": "text/x-python",
   "name": "python",
   "nbconvert_exporter": "python",
   "pygments_lexer": "ipython3",
   "version": "3.7.3"
  }
 },
 "nbformat": 4,
 "nbformat_minor": 2
}
