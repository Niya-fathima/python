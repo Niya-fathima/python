{
 "cells": [
  {
   "cell_type": "code",
   "execution_count": null,
   "id": "10794db9",
   "metadata": {},
   "outputs": [],
   "source": [
    "#to count numbers and digits\n",
    "x=input(\"enter a string:\")\n",
    "a=b=0\n",
    "for c in x:\n",
    "    if c.isalpha():\n",
    "        a=a+1\n",
    "    elif c.isdigit():\n",
    "        b=b+1\n",
    "    else:\n",
    "        pass\n",
    "print(\"no of letters=\",a)\n",
    "print(\"no of digits=\",b)"
   ]
  },
  {
   "cell_type": "code",
   "execution_count": null,
   "id": "c6d630cc",
   "metadata": {},
   "outputs": [],
   "source": []
  }
 ],
 "metadata": {
  "kernelspec": {
   "display_name": "Python 3 (ipykernel)",
   "language": "python",
   "name": "python3"
  },
  "language_info": {
   "codemirror_mode": {
    "name": "ipython",
    "version": 3
   },
   "file_extension": ".py",
   "mimetype": "text/x-python",
   "name": "python",
   "nbconvert_exporter": "python",
   "pygments_lexer": "ipython3",
   "version": "3.10.6"
  }
 },
 "nbformat": 4,
 "nbformat_minor": 5
}
