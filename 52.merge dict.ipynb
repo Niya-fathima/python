{
 "cells": [
  {
   "cell_type": "code",
   "execution_count": 1,
   "id": "ef1daaf7",
   "metadata": {},
   "outputs": [
    {
     "name": "stdout",
     "output_type": "stream",
     "text": [
      "first: {1: 'red', 2: 'blue', 3: 'green', 4: 'yellow'}\n",
      "second: {5: 'white', 6: 'black'}\n",
      "\n",
      " after concatenating:\n",
      "{1: 'red', 2: 'blue', 3: 'green', 4: 'yellow', 5: 'white', 6: 'black'}\n"
     ]
    }
   ],
   "source": [
    "#merge 2 dictionaries\n",
    "first_dict={1:'red',2:'blue',3:'green',4:'yellow'}\n",
    "second_dict={5:'white',6:'black'}\n",
    "print(\"first:\",first_dict)\n",
    "print(\"second:\",second_dict)\n",
    "first_dict.update(second_dict)\n",
    "print(\"\\n after concatenating:\")\n",
    "print(first_dict)"
   ]
  },
  {
   "cell_type": "code",
   "execution_count": null,
   "id": "a97e6ef4",
   "metadata": {},
   "outputs": [],
   "source": []
  }
 ],
 "metadata": {
  "kernelspec": {
   "display_name": "Python 3 (ipykernel)",
   "language": "python",
   "name": "python3"
  },
  "language_info": {
   "codemirror_mode": {
    "name": "ipython",
    "version": 3
   },
   "file_extension": ".py",
   "mimetype": "text/x-python",
   "name": "python",
   "nbconvert_exporter": "python",
   "pygments_lexer": "ipython3",
   "version": "3.10.6"
  }
 },
 "nbformat": 4,
 "nbformat_minor": 5
}
