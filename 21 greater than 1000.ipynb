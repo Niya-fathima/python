{
 "cells": [
  {
   "cell_type": "code",
   "execution_count": 7,
   "metadata": {},
   "outputs": [
    {
     "name": "stdout",
     "output_type": "stream",
     "text": [
      "enter first integer:500\n",
      "enter second integer:501\n",
      "product is greater than 1000!the sum of 2 integers are: 1001\n"
     ]
    }
   ],
   "source": [
    "a=int(input(\"enter first integer:\"))\n",
    "b=int(input(\"enter second integer:\"))\n",
    "c=a*b\n",
    "d=a+b\n",
    "if c>1000:\n",
    " print(\"product is greater than 1000!the sum of 2 integers are:\",d)\n",
    "else:\n",
    " print(\"the product of 2 integers are:\",c)"
   ]
  },
  {
   "cell_type": "code",
   "execution_count": null,
   "metadata": {},
   "outputs": [],
   "source": []
  }
 ],
 "metadata": {
  "kernelspec": {
   "display_name": "Python 3",
   "language": "python",
   "name": "python3"
  },
  "language_info": {
   "codemirror_mode": {
    "name": "ipython",
    "version": 3
   },
   "file_extension": ".py",
   "mimetype": "text/x-python",
   "name": "python",
   "nbconvert_exporter": "python",
   "pygments_lexer": "ipython3",
   "version": "3.7.3"
  }
 },
 "nbformat": 4,
 "nbformat_minor": 2
}
