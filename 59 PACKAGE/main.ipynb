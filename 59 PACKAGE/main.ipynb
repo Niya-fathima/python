{
 "cells": [
  {
   "cell_type": "code",
   "execution_count": 2,
   "id": "e384a799",
   "metadata": {},
   "outputs": [
    {
     "name": "stdout",
     "output_type": "stream",
     "text": [
      "1.rectangle\n",
      "2.circle\n",
      "3.cuboid\n",
      "4.sphere\n",
      "5.exit\n",
      "enter your choice:3\n",
      "enter length:4\n",
      "enter breadth:5\n",
      "enter height:6\n",
      "area of cuboid: 148\n",
      "perimeter of cuboid: 60\n",
      "1.rectangle\n",
      "2.circle\n",
      "3.cuboid\n",
      "4.sphere\n",
      "5.exit\n",
      "enter your choice:4\n",
      "enter radius:5\n",
      "arae of sphere: 157.0\n",
      "perimeter of sphere: 314.0\n",
      "1.rectangle\n",
      "2.circle\n",
      "3.cuboid\n",
      "4.sphere\n",
      "5.exit\n",
      "enter your choice:5\n",
      "exiting...\n"
     ]
    }
   ],
   "source": [
    "from graphics import rectt\n",
    "from graphics import circl\n",
    "from graphics.graphics3d import cuboidd\n",
    "from graphics.graphics3d import spheree\n",
    "while(1):\n",
    "    print(\"1.rectangle\\n2.circle\\n3.cuboid\\n4.sphere\\n5.exit\")\n",
    "    ch=int(input(\"enter your choice:\"))\n",
    "    if ch==1:\n",
    "        l=int(input(\"enter length:\"))\n",
    "        b=int(input(\"enter breadth:\"))\n",
    "        rectt.rectarea(l,b)\n",
    "        rectt.rectperi(l,b)\n",
    "    elif ch==2:\n",
    "        r=int(input(\"enter radius:\"))\n",
    "        circl.circlearea(r)\n",
    "        circl.circleperi(r)\n",
    "    elif ch==3:\n",
    "        l=int(input(\"enter length:\"))\n",
    "        b=int(input(\"enter breadth:\"))\n",
    "        h=int(input(\"enter height:\"))\n",
    "        cuboidd.cuboidarea(l,b,h)\n",
    "        cuboidd.cuboidperi(l,b,h)\n",
    "    elif ch==4:\n",
    "        r=int(input(\"enter radius:\"))\n",
    "        spheree.spherearea(r)\n",
    "        spheree.sphereperi(r)\n",
    "    else:\n",
    "        print(\"exiting...\")\n",
    "        break"
   ]
  },
  {
   "cell_type": "code",
   "execution_count": null,
   "id": "2faedc78",
   "metadata": {},
   "outputs": [],
   "source": []
  }
 ],
 "metadata": {
  "kernelspec": {
   "display_name": "Python 3 (ipykernel)",
   "language": "python",
   "name": "python3"
  },
  "language_info": {
   "codemirror_mode": {
    "name": "ipython",
    "version": 3
   },
   "file_extension": ".py",
   "mimetype": "text/x-python",
   "name": "python",
   "nbconvert_exporter": "python",
   "pygments_lexer": "ipython3",
   "version": "3.10.6"
  }
 },
 "nbformat": 4,
 "nbformat_minor": 5
}
